{
  "nbformat": 4,
  "nbformat_minor": 0,
  "metadata": {
    "colab": {
      "provenance": [],
      "authorship_tag": "ABX9TyNsST5+iB3PQ6v4RjD2dexx",
      "include_colab_link": true
    },
    "kernelspec": {
      "name": "python3",
      "display_name": "Python 3"
    },
    "language_info": {
      "name": "python"
    }
  },
  "cells": [
    {
      "cell_type": "markdown",
      "metadata": {
        "id": "view-in-github",
        "colab_type": "text"
      },
      "source": [
        "<a href=\"https://colab.research.google.com/github/grover1012/African_veg/blob/main/HW1_Kashish_Grover.ipynb\" target=\"_parent\"><img src=\"https://colab.research.google.com/assets/colab-badge.svg\" alt=\"Open In Colab\"/></a>"
      ]
    },
    {
      "cell_type": "markdown",
      "source": [
        "## ST-563 HW #\n",
        "\n",
        "# Kashish Grover"
      ],
      "metadata": {
        "id": "-_x29FGnrAfb"
      }
    },
    {
      "cell_type": "code",
      "execution_count": null,
      "metadata": {
        "colab": {
          "base_uri": "https://localhost:8080/"
        },
        "id": "-VxvVJ23aaE6",
        "outputId": "86d7847f-c4ed-4b9b-e9a1-4a0ff9d72f34"
      },
      "outputs": [
        {
          "output_type": "stream",
          "name": "stdout",
          "text": [
            "Requirement already satisfied: numpy in /usr/local/lib/python3.12/dist-packages (2.0.2)\n",
            "Requirement already satisfied: pandas in /usr/local/lib/python3.12/dist-packages (2.2.2)\n",
            "Requirement already satisfied: scikit-learn in /usr/local/lib/python3.12/dist-packages (1.6.1)\n",
            "Requirement already satisfied: python-dateutil>=2.8.2 in /usr/local/lib/python3.12/dist-packages (from pandas) (2.9.0.post0)\n",
            "Requirement already satisfied: pytz>=2020.1 in /usr/local/lib/python3.12/dist-packages (from pandas) (2025.2)\n",
            "Requirement already satisfied: tzdata>=2022.7 in /usr/local/lib/python3.12/dist-packages (from pandas) (2025.2)\n",
            "Requirement already satisfied: scipy>=1.6.0 in /usr/local/lib/python3.12/dist-packages (from scikit-learn) (1.16.1)\n",
            "Requirement already satisfied: joblib>=1.2.0 in /usr/local/lib/python3.12/dist-packages (from scikit-learn) (1.5.1)\n",
            "Requirement already satisfied: threadpoolctl>=3.1.0 in /usr/local/lib/python3.12/dist-packages (from scikit-learn) (3.6.0)\n",
            "Requirement already satisfied: six>=1.5 in /usr/local/lib/python3.12/dist-packages (from python-dateutil>=2.8.2->pandas) (1.17.0)\n"
          ]
        }
      ],
      "source": [
        "!pip install numpy pandas scikit-learn"
      ]
    },
    {
      "cell_type": "code",
      "source": [
        "import numpy as np, pandas as pd, sklearn\n",
        "print(np.__version__, pd.__version__, sklearn.__version__)"
      ],
      "metadata": {
        "colab": {
          "base_uri": "https://localhost:8080/"
        },
        "id": "eE9iLoDcasxy",
        "outputId": "c2ec08e3-66d9-427b-a85c-9a87ae12037f"
      },
      "execution_count": null,
      "outputs": [
        {
          "output_type": "stream",
          "name": "stdout",
          "text": [
            "2.0.2 2.2.2 1.6.1\n"
          ]
        }
      ]
    },
    {
      "cell_type": "markdown",
      "source": [
        "#6. Pledge\n",
        "Ponder how using ChatGPT can cause an ethical issue and hinder the learning\n",
        "process, especially by preventing your growth in critical thinking and intellectual independence. Write down your thoughts and create a plan to prevent this, as a pledge. bold text **bold text**"
      ],
      "metadata": {
        "id": "b4RFhd9_gdzn"
      }
    },
    {
      "cell_type": "markdown",
      "source": [
        "In the current scenario, personally, I feel using the AI models restricts critical thinking. I feel they made me so dependent that sometimes I feel blank or hard to think on certain topics. Sometimes, it is good to use these AI tools to brainstorm on any idea or a topic to get dig deeper and find answers. But it should never restrict the critical thinking ability. As a human I always want to grow myself and in a way these AI tools make us so dependent on them that sometimes its hard to make decisions on my own.\n",
        "\n",
        "To prevent this, I believe we have to work on critical thinking and prevent the use of these AI tools. I will try to limit the use of AI for certain things which can be done by myself. Along with that, I will not use AI for this course that will help me improve my critical thinking ability and problem solving skills.\n",
        "\n",
        "For this purpose, I take this pledge:\n",
        "\n",
        "I, Kashish Grover, pledge that I will always clearly specify the use of generative AI tools like ChatGPT for whatever purpose, and ensure that whatever I write in my report and code consists only of the things I have digested and actually understand. I promise that I will not copy and paste (even manually, by hand) from generative AI tools, and I will maintain\n",
        "a high work ethic in the reports I produce.I understand and agree that any discrepancy between my quiz performance and the quality of my homework, or between the quality of my midterm/final reports and my presentation and Q&A performance, can result in a significant reduction of my score. I pledge that I will not be a free rider in team projects but will faithfully contribute as a member by completing my portion."
      ],
      "metadata": {
        "id": "A7gJu-1PggAa"
      }
    }
  ]
}